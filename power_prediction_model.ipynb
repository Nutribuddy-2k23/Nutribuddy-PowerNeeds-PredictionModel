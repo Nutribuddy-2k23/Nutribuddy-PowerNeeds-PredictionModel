{
  "nbformat": 4,
  "nbformat_minor": 0,
  "metadata": {
    "colab": {
      "provenance": []
    },
    "kernelspec": {
      "name": "python3",
      "display_name": "Python 3"
    },
    "language_info": {
      "name": "python"
    }
  },
  "cells": [
    {
      "cell_type": "code",
      "execution_count": 1,
      "metadata": {
        "id": "IZDUykv01odZ"
      },
      "outputs": [],
      "source": [
        "import pandas as pd\n",
        "from sklearn.model_selection import train_test_split\n",
        "from sklearn.linear_model import LinearRegression\n",
        "from sklearn.metrics import mean_absolute_error, mean_squared_error, r2_score\n",
        "from sklearn.impute import SimpleImputer\n"
      ]
    },
    {
      "cell_type": "code",
      "source": [
        "from google.colab import drive\n",
        "drive.mount('/content/drive')"
      ],
      "metadata": {
        "id": "ydDkIb7X1wRH",
        "colab": {
          "base_uri": "https://localhost:8080/"
        },
        "outputId": "017a28a6-886d-40e1-be73-f3d2433a8acb"
      },
      "execution_count": 2,
      "outputs": [
        {
          "output_type": "stream",
          "name": "stdout",
          "text": [
            "Mounted at /content/drive\n"
          ]
        }
      ]
    },
    {
      "cell_type": "code",
      "source": [
        "# Step 1: Data Preprocessing\n",
        "# Load your dataset (replace 'your_dataset.csv' with the actual file path)\n",
        "df = pd.read_csv('/content/power_needs.csv')"
      ],
      "metadata": {
        "id": "V61vYcgi19zr"
      },
      "execution_count": 3,
      "outputs": []
    },
    {
      "cell_type": "code",
      "source": [
        "print(df.head())"
      ],
      "metadata": {
        "colab": {
          "base_uri": "https://localhost:8080/"
        },
        "id": "IcBTRN4G3AsM",
        "outputId": "87a89c61-3397-4259-ac71-c0efaf06735f"
      },
      "execution_count": 4,
      "outputs": [
        {
          "output_type": "stream",
          "name": "stdout",
          "text": [
            "   entry_id  Water Needs(Litres)  Voltage (V)(volts)  Motor Efficiency(%)  \\\n",
            "0       1.0                 93.6                 220                   85   \n",
            "1       2.0                 93.6                 220                   85   \n",
            "2       3.0                 93.6                 220                   85   \n",
            "3       4.0                 93.6                 220                   85   \n",
            "4       5.0                 93.6                 220                   85   \n",
            "\n",
            "   Motor Capacity (P)(hp)  Maximum Flow Rate of the Motor(Liters per hour)  \\\n",
            "0                     0.5                                             1800   \n",
            "1                     0.5                                             1800   \n",
            "2                     0.5                                             1800   \n",
            "3                     0.5                                             1800   \n",
            "4                     0.5                                             1800   \n",
            "\n",
            "   Power needs(KW)  \n",
            "0            0.019  \n",
            "1            0.019  \n",
            "2            0.019  \n",
            "3            0.019  \n",
            "4            0.019  \n"
          ]
        }
      ]
    },
    {
      "cell_type": "code",
      "source": [
        "# Getting last 3 rows from df\n",
        "df_last_3 = df.tail(3)\n",
        "\n",
        "# Printing df_last_3\n",
        "print(df_last_3)"
      ],
      "metadata": {
        "colab": {
          "base_uri": "https://localhost:8080/"
        },
        "id": "IFyBwV-uAtAX",
        "outputId": "d6fc4a24-771c-416b-8fc0-bec6e34ac30a"
      },
      "execution_count": 5,
      "outputs": [
        {
          "output_type": "stream",
          "name": "stdout",
          "text": [
            "       entry_id  Water Needs(Litres)  Voltage (V)(volts)  Motor Efficiency(%)  \\\n",
            "41549   41555.0               141.05                 220                   85   \n",
            "41550   41546.0               141.05                 220                   85   \n",
            "41551   41545.0               141.05                 220                   85   \n",
            "\n",
            "       Motor Capacity (P)(hp)  \\\n",
            "41549                     0.5   \n",
            "41550                     0.5   \n",
            "41551                     0.5   \n",
            "\n",
            "       Maximum Flow Rate of the Motor(Liters per hour)  Power needs(KW)  \n",
            "41549                                             1800           0.0296  \n",
            "41550                                             1800           0.0296  \n",
            "41551                                             1800           0.0296  \n"
          ]
        }
      ]
    },
    {
      "cell_type": "code",
      "source": [
        "# Handle missing values (if any)\n",
        "# For simplicity, we'll fill missing values with the mean for numerical columns\n",
        "df.fillna(df.mean(), inplace=True)\n"
      ],
      "metadata": {
        "id": "CSe_iN1T2_lW"
      },
      "execution_count": 6,
      "outputs": []
    },
    {
      "cell_type": "code",
      "source": [
        "print(df.head())"
      ],
      "metadata": {
        "colab": {
          "base_uri": "https://localhost:8080/"
        },
        "id": "LxQSjDQ-3cof",
        "outputId": "fbabea7c-f611-4b11-fc9a-cbcb7d1cff17"
      },
      "execution_count": 7,
      "outputs": [
        {
          "output_type": "stream",
          "name": "stdout",
          "text": [
            "   entry_id  Water Needs(Litres)  Voltage (V)(volts)  Motor Efficiency(%)  \\\n",
            "0       1.0                 93.6                 220                   85   \n",
            "1       2.0                 93.6                 220                   85   \n",
            "2       3.0                 93.6                 220                   85   \n",
            "3       4.0                 93.6                 220                   85   \n",
            "4       5.0                 93.6                 220                   85   \n",
            "\n",
            "   Motor Capacity (P)(hp)  Maximum Flow Rate of the Motor(Liters per hour)  \\\n",
            "0                     0.5                                             1800   \n",
            "1                     0.5                                             1800   \n",
            "2                     0.5                                             1800   \n",
            "3                     0.5                                             1800   \n",
            "4                     0.5                                             1800   \n",
            "\n",
            "   Power needs(KW)  \n",
            "0            0.019  \n",
            "1            0.019  \n",
            "2            0.019  \n",
            "3            0.019  \n",
            "4            0.019  \n"
          ]
        }
      ]
    },
    {
      "cell_type": "code",
      "source": [
        "print(df.head())\n"
      ],
      "metadata": {
        "colab": {
          "base_uri": "https://localhost:8080/"
        },
        "id": "qNges97z4Bw5",
        "outputId": "8b9a873b-1ee7-4d0b-8475-05d4ce357fa9"
      },
      "execution_count": 8,
      "outputs": [
        {
          "output_type": "stream",
          "name": "stdout",
          "text": [
            "   entry_id  Water Needs(Litres)  Voltage (V)(volts)  Motor Efficiency(%)  \\\n",
            "0       1.0                 93.6                 220                   85   \n",
            "1       2.0                 93.6                 220                   85   \n",
            "2       3.0                 93.6                 220                   85   \n",
            "3       4.0                 93.6                 220                   85   \n",
            "4       5.0                 93.6                 220                   85   \n",
            "\n",
            "   Motor Capacity (P)(hp)  Maximum Flow Rate of the Motor(Liters per hour)  \\\n",
            "0                     0.5                                             1800   \n",
            "1                     0.5                                             1800   \n",
            "2                     0.5                                             1800   \n",
            "3                     0.5                                             1800   \n",
            "4                     0.5                                             1800   \n",
            "\n",
            "   Power needs(KW)  \n",
            "0            0.019  \n",
            "1            0.019  \n",
            "2            0.019  \n",
            "3            0.019  \n",
            "4            0.019  \n"
          ]
        }
      ]
    },
    {
      "cell_type": "code",
      "source": [
        "# Drop columns that are not relevant for prediction (if any)\n",
        "df = df.drop(['entry_id'], axis=1)"
      ],
      "metadata": {
        "id": "l0VASfwI4Woj"
      },
      "execution_count": 9,
      "outputs": []
    },
    {
      "cell_type": "code",
      "source": [
        "print(df.head())\n"
      ],
      "metadata": {
        "colab": {
          "base_uri": "https://localhost:8080/"
        },
        "id": "yDur59Zp4a4T",
        "outputId": "49f01aab-681f-46ac-ec10-122f9b766a7b"
      },
      "execution_count": 10,
      "outputs": [
        {
          "output_type": "stream",
          "name": "stdout",
          "text": [
            "   Water Needs(Litres)  Voltage (V)(volts)  Motor Efficiency(%)  \\\n",
            "0                 93.6                 220                   85   \n",
            "1                 93.6                 220                   85   \n",
            "2                 93.6                 220                   85   \n",
            "3                 93.6                 220                   85   \n",
            "4                 93.6                 220                   85   \n",
            "\n",
            "   Motor Capacity (P)(hp)  Maximum Flow Rate of the Motor(Liters per hour)  \\\n",
            "0                     0.5                                             1800   \n",
            "1                     0.5                                             1800   \n",
            "2                     0.5                                             1800   \n",
            "3                     0.5                                             1800   \n",
            "4                     0.5                                             1800   \n",
            "\n",
            "   Power needs(KW)  \n",
            "0            0.019  \n",
            "1            0.019  \n",
            "2            0.019  \n",
            "3            0.019  \n",
            "4            0.019  \n"
          ]
        }
      ]
    },
    {
      "cell_type": "code",
      "source": [
        "# Define features and target variables for power needs prediction\n",
        "X_power = df[['Water Needs(Litres)', 'Voltage (V)(volts)', 'Motor Efficiency(%)', 'Motor Capacity (P)(hp)', 'Maximum Flow Rate of the Motor(Liters per hour)']]\n",
        "y_power = df['Power needs(KW)']\n"
      ],
      "metadata": {
        "id": "zfMx1PkURU3p"
      },
      "execution_count": 11,
      "outputs": []
    },
    {
      "cell_type": "code",
      "source": [
        "# Split the data into training and testing sets for both water and power needs\n",
        "X_train_power, X_test_power, y_train_power, y_test_power = train_test_split(X_power, y_power, test_size=0.2, random_state=42)\n"
      ],
      "metadata": {
        "id": "1BmNmNz9Sbqb"
      },
      "execution_count": 12,
      "outputs": []
    },
    {
      "cell_type": "code",
      "source": [
        "# Step 4: Selecting a Model\n",
        "model = LinearRegression()  # Linear Regression is chosen as an example. You can try different models.\n"
      ],
      "metadata": {
        "id": "Ber1XRxRDhDE"
      },
      "execution_count": 13,
      "outputs": []
    },
    {
      "cell_type": "code",
      "source": [
        "# Step 5: Model Training\n",
        "model.fit(X_train_power, y_train_power)"
      ],
      "metadata": {
        "colab": {
          "base_uri": "https://localhost:8080/",
          "height": 75
        },
        "id": "Yq0yYnCNDl43",
        "outputId": "f5b22766-4358-42a9-ded5-d60d34a63ad8"
      },
      "execution_count": 14,
      "outputs": [
        {
          "output_type": "execute_result",
          "data": {
            "text/plain": [
              "LinearRegression()"
            ],
            "text/html": [
              "<style>#sk-container-id-1 {color: black;background-color: white;}#sk-container-id-1 pre{padding: 0;}#sk-container-id-1 div.sk-toggleable {background-color: white;}#sk-container-id-1 label.sk-toggleable__label {cursor: pointer;display: block;width: 100%;margin-bottom: 0;padding: 0.3em;box-sizing: border-box;text-align: center;}#sk-container-id-1 label.sk-toggleable__label-arrow:before {content: \"▸\";float: left;margin-right: 0.25em;color: #696969;}#sk-container-id-1 label.sk-toggleable__label-arrow:hover:before {color: black;}#sk-container-id-1 div.sk-estimator:hover label.sk-toggleable__label-arrow:before {color: black;}#sk-container-id-1 div.sk-toggleable__content {max-height: 0;max-width: 0;overflow: hidden;text-align: left;background-color: #f0f8ff;}#sk-container-id-1 div.sk-toggleable__content pre {margin: 0.2em;color: black;border-radius: 0.25em;background-color: #f0f8ff;}#sk-container-id-1 input.sk-toggleable__control:checked~div.sk-toggleable__content {max-height: 200px;max-width: 100%;overflow: auto;}#sk-container-id-1 input.sk-toggleable__control:checked~label.sk-toggleable__label-arrow:before {content: \"▾\";}#sk-container-id-1 div.sk-estimator input.sk-toggleable__control:checked~label.sk-toggleable__label {background-color: #d4ebff;}#sk-container-id-1 div.sk-label input.sk-toggleable__control:checked~label.sk-toggleable__label {background-color: #d4ebff;}#sk-container-id-1 input.sk-hidden--visually {border: 0;clip: rect(1px 1px 1px 1px);clip: rect(1px, 1px, 1px, 1px);height: 1px;margin: -1px;overflow: hidden;padding: 0;position: absolute;width: 1px;}#sk-container-id-1 div.sk-estimator {font-family: monospace;background-color: #f0f8ff;border: 1px dotted black;border-radius: 0.25em;box-sizing: border-box;margin-bottom: 0.5em;}#sk-container-id-1 div.sk-estimator:hover {background-color: #d4ebff;}#sk-container-id-1 div.sk-parallel-item::after {content: \"\";width: 100%;border-bottom: 1px solid gray;flex-grow: 1;}#sk-container-id-1 div.sk-label:hover label.sk-toggleable__label {background-color: #d4ebff;}#sk-container-id-1 div.sk-serial::before {content: \"\";position: absolute;border-left: 1px solid gray;box-sizing: border-box;top: 0;bottom: 0;left: 50%;z-index: 0;}#sk-container-id-1 div.sk-serial {display: flex;flex-direction: column;align-items: center;background-color: white;padding-right: 0.2em;padding-left: 0.2em;position: relative;}#sk-container-id-1 div.sk-item {position: relative;z-index: 1;}#sk-container-id-1 div.sk-parallel {display: flex;align-items: stretch;justify-content: center;background-color: white;position: relative;}#sk-container-id-1 div.sk-item::before, #sk-container-id-1 div.sk-parallel-item::before {content: \"\";position: absolute;border-left: 1px solid gray;box-sizing: border-box;top: 0;bottom: 0;left: 50%;z-index: -1;}#sk-container-id-1 div.sk-parallel-item {display: flex;flex-direction: column;z-index: 1;position: relative;background-color: white;}#sk-container-id-1 div.sk-parallel-item:first-child::after {align-self: flex-end;width: 50%;}#sk-container-id-1 div.sk-parallel-item:last-child::after {align-self: flex-start;width: 50%;}#sk-container-id-1 div.sk-parallel-item:only-child::after {width: 0;}#sk-container-id-1 div.sk-dashed-wrapped {border: 1px dashed gray;margin: 0 0.4em 0.5em 0.4em;box-sizing: border-box;padding-bottom: 0.4em;background-color: white;}#sk-container-id-1 div.sk-label label {font-family: monospace;font-weight: bold;display: inline-block;line-height: 1.2em;}#sk-container-id-1 div.sk-label-container {text-align: center;}#sk-container-id-1 div.sk-container {/* jupyter's `normalize.less` sets `[hidden] { display: none; }` but bootstrap.min.css set `[hidden] { display: none !important; }` so we also need the `!important` here to be able to override the default hidden behavior on the sphinx rendered scikit-learn.org. See: https://github.com/scikit-learn/scikit-learn/issues/21755 */display: inline-block !important;position: relative;}#sk-container-id-1 div.sk-text-repr-fallback {display: none;}</style><div id=\"sk-container-id-1\" class=\"sk-top-container\"><div class=\"sk-text-repr-fallback\"><pre>LinearRegression()</pre><b>In a Jupyter environment, please rerun this cell to show the HTML representation or trust the notebook. <br />On GitHub, the HTML representation is unable to render, please try loading this page with nbviewer.org.</b></div><div class=\"sk-container\" hidden><div class=\"sk-item\"><div class=\"sk-estimator sk-toggleable\"><input class=\"sk-toggleable__control sk-hidden--visually\" id=\"sk-estimator-id-1\" type=\"checkbox\" checked><label for=\"sk-estimator-id-1\" class=\"sk-toggleable__label sk-toggleable__label-arrow\">LinearRegression</label><div class=\"sk-toggleable__content\"><pre>LinearRegression()</pre></div></div></div></div></div>"
            ]
          },
          "metadata": {},
          "execution_count": 14
        }
      ]
    },
    {
      "cell_type": "code",
      "source": [
        "# Step 6: Model Evaluation\n",
        "y_pred = model.predict(X_test_power)\n",
        "mae = mean_absolute_error(y_test_power, y_pred)\n",
        "mse = mean_squared_error(y_test_power, y_pred)\n",
        "r2 = r2_score(y_test_power, y_pred)\n",
        "\n",
        "print(f'Mean Absolute Error: {mae}')\n",
        "print(f'Mean Squared Error: {mse}')\n",
        "print(f'R-squared: {r2}')"
      ],
      "metadata": {
        "id": "BEd9CXe2XhBb",
        "colab": {
          "base_uri": "https://localhost:8080/"
        },
        "outputId": "965cb57c-0ce1-4874-c3d4-903ecb32b701"
      },
      "execution_count": 15,
      "outputs": [
        {
          "output_type": "stream",
          "name": "stdout",
          "text": [
            "Mean Absolute Error: 9.83855336057427e-05\n",
            "Mean Squared Error: 1.676943324997954e-08\n",
            "R-squared: 0.9992582202103366\n"
          ]
        }
      ]
    },
    {
      "cell_type": "code",
      "source": [
        "train_score = model.score(X_train_power, y_train_power)\n",
        "val_score = model.score(X_test_power, y_test_power)\n",
        "\n",
        "print(f\"Training R-squared: {train_score}\")\n",
        "print(f\"Validation R-squared: {val_score}\")\n"
      ],
      "metadata": {
        "id": "Cim3PLyEZP6D",
        "colab": {
          "base_uri": "https://localhost:8080/"
        },
        "outputId": "ef39b357-5378-4b01-8d97-8f042e8c991b"
      },
      "execution_count": 16,
      "outputs": [
        {
          "output_type": "stream",
          "name": "stdout",
          "text": [
            "Training R-squared: 0.9992568395181444\n",
            "Validation R-squared: 0.9992582202103366\n"
          ]
        }
      ]
    },
    {
      "cell_type": "code",
      "source": [
        "from sklearn.model_selection import cross_val_score\n",
        "\n",
        "# Perform k-fold cross-validation\n",
        "scores = cross_val_score(model, X_power, y_power, cv=5)  # 5-fold cross-validation\n",
        "print(f\"Cross-validated R-squared scores: {scores}\")\n"
      ],
      "metadata": {
        "id": "fVhge8FtQmMj",
        "colab": {
          "base_uri": "https://localhost:8080/"
        },
        "outputId": "d6dea3a0-94fd-4591-8964-d77cbf7d301f"
      },
      "execution_count": 17,
      "outputs": [
        {
          "output_type": "stream",
          "name": "stdout",
          "text": [
            "Cross-validated R-squared scores: [ 0.00000000e+00  9.97287579e-01  6.78755130e-01 -1.39474799e+26\n",
            " -1.39474799e+26]\n"
          ]
        }
      ]
    },
    {
      "cell_type": "code",
      "source": [
        "import matplotlib.pyplot as plt\n",
        "import numpy as np\n",
        "from sklearn.model_selection import learning_curve\n",
        "\n",
        "# Generate learning curves\n",
        "train_sizes, train_scores, val_scores = learning_curve(model, X_power, y_power, cv=5)\n",
        "\n",
        "# Plot learning curves\n",
        "plt.plot(train_sizes, np.mean(train_scores, axis=1), label='Training score')\n",
        "plt.plot(train_sizes, np.mean(val_scores, axis=1), label='Validation score')\n",
        "plt.xlabel('Training examples')\n",
        "plt.ylabel('R-squared')\n",
        "plt.legend(loc='best')\n",
        "plt.show()\n"
      ],
      "metadata": {
        "id": "-IiQstWzRtCo",
        "colab": {
          "base_uri": "https://localhost:8080/",
          "height": 465
        },
        "outputId": "be5c2928-809a-484b-c4e3-5e1158a34dcd"
      },
      "execution_count": 18,
      "outputs": [
        {
          "output_type": "display_data",
          "data": {
            "text/plain": [
              "<Figure size 640x480 with 1 Axes>"
            ],
            "image/png": "[encoded data removed]"
          },
          "metadata": {}
        }
      ]
    },
    {
      "cell_type": "code",
      "source": [
        "from sklearn.linear_model import Ridge\n",
        "\n",
        "# Use Ridge regression with regularization\n",
        "ridge_model = Ridge(alpha=1.0)  # Adjust alpha as needed\n",
        "ridge_model.fit(X_train_power, y_train_power)\n",
        "ridge_train_score = ridge_model.score(X_train_power, y_train_power)\n",
        "ridge_val_score = ridge_model.score(X_test_power, y_test_power)\n",
        "\n",
        "print(f\"Ridge Training R-squared: {ridge_train_score}\")\n",
        "print(f\"Ridge Validation R-squared: {ridge_val_score}\")\n"
      ],
      "metadata": {
        "id": "pIfYEIYMRs-W",
        "colab": {
          "base_uri": "https://localhost:8080/"
        },
        "outputId": "bf2e34b3-7aef-4d14-c9b9-6389e9452582"
      },
      "execution_count": 19,
      "outputs": [
        {
          "output_type": "stream",
          "name": "stdout",
          "text": [
            "Ridge Training R-squared: 0.99925683951814\n",
            "Ridge Validation R-squared: 0.9992582202098876\n"
          ]
        }
      ]
    },
    {
      "cell_type": "code",
      "source": [
        "# Assuming you have a separate test set X_test and y_test\n",
        "test_score = model.score(X_test_power, y_test_power)\n",
        "print(f\"Test R-squared: {test_score}\")\n"
      ],
      "metadata": {
        "id": "g_GHb7x1TPOL",
        "colab": {
          "base_uri": "https://localhost:8080/"
        },
        "outputId": "47a65577-081e-4d53-9fc3-31b3db6ba0ab"
      },
      "execution_count": 20,
      "outputs": [
        {
          "output_type": "stream",
          "name": "stdout",
          "text": [
            "Test R-squared: 0.9992582202103366\n"
          ]
        }
      ]
    },
    {
      "cell_type": "code",
      "source": [
        "# Assuming 'X_train' is your DataFrame used for training\n",
        "features_used = X_train_power.columns.tolist()\n",
        "\n",
        "print(\"Features used during training:\")\n",
        "for feature in features_used:\n",
        "    print(feature)"
      ],
      "metadata": {
        "colab": {
          "base_uri": "https://localhost:8080/"
        },
        "id": "nlAU8N0-aGgr",
        "outputId": "e1f154d1-d3a3-47c4-f4a5-3f629c9b2cbf"
      },
      "execution_count": 21,
      "outputs": [
        {
          "output_type": "stream",
          "name": "stdout",
          "text": [
            "Features used during training:\n",
            "Water Needs(Litres)\n",
            "Voltage (V)(volts)\n",
            "Motor Efficiency(%)\n",
            "Motor Capacity (P)(hp)\n",
            "Maximum Flow Rate of the Motor(Liters per hour)\n"
          ]
        }
      ]
    },
    {
      "cell_type": "code",
      "source": [
        "import pandas as pd\n",
        "\n",
        "# Assuming X_new is a DataFrame\n",
        "X_new = pd.DataFrame({\n",
        "    'Water Needs(Litres)': [90, 105, 95],\n",
        "    'Voltage (V)(volts)': [220, 220, 220],\n",
        "    'Motor Efficiency(%)': [85, 85, 85],\n",
        "    'Motor Capacity (P)(hp)': [0.5, 0.5, 0.5],\n",
        "    'Maximum Flow Rate of the Motor(Liters per hour)': [1800, 1800, 1800]\n",
        "    # Add other features as needed\n",
        "})"
      ],
      "metadata": {
        "id": "mA7ab5UeaVeZ"
      },
      "execution_count": 22,
      "outputs": []
    },
    {
      "cell_type": "code",
      "source": [
        "# Now, you can use your trained model to make predictions\n",
        "predictions = model.predict(X_new)"
      ],
      "metadata": {
        "id": "j54cBJHfbnU6"
      },
      "execution_count": 23,
      "outputs": []
    },
    {
      "cell_type": "code",
      "source": [
        "print(predictions)"
      ],
      "metadata": {
        "colab": {
          "base_uri": "https://localhost:8080/"
        },
        "id": "IthaI47Jb3Of",
        "outputId": "b3e78bc0-debf-40a9-b240-44b695bfe1ad"
      },
      "execution_count": 24,
      "outputs": [
        {
          "output_type": "stream",
          "name": "stdout",
          "text": [
            "[0.01821368 0.02153349 0.01932028]\n"
          ]
        }
      ]
    },
    {
      "cell_type": "code",
      "source": [
        "y_train_pred = model.predict(X_train_power)\n",
        "y_test_pred = model.predict(X_test_power)\n",
        "\n",
        "# Step 3: Evaluate the model\n",
        "train_mse = mean_squared_error(y_train_power, y_train_pred)\n",
        "test_mse = mean_squared_error(y_test_power, y_test_pred)\n",
        "\n",
        "print(f\"Training Mean Squared Error: {train_mse}\")\n",
        "print(f\"Testing Mean Squared Error: {test_mse}\")"
      ],
      "metadata": {
        "colab": {
          "base_uri": "https://localhost:8080/"
        },
        "id": "xQsluBKycAsi",
        "outputId": "a22681a3-74d3-46ea-deb4-a303c97e029e"
      },
      "execution_count": 25,
      "outputs": [
        {
          "output_type": "stream",
          "name": "stdout",
          "text": [
            "Training Mean Squared Error: 1.660911185988965e-08\n",
            "Testing Mean Squared Error: 1.676943324997954e-08\n"
          ]
        }
      ]
    },
    {
      "cell_type": "code",
      "source": [
        "r_squared = r2_score(y_test_power, y_test_pred)\n",
        "\n",
        "print(f\"R-squared (coefficient of determination): {r_squared}\")"
      ],
      "metadata": {
        "colab": {
          "base_uri": "https://localhost:8080/"
        },
        "id": "yKy2d6vfcU3b",
        "outputId": "2cafd76d-a909-46d2-c270-887eeabb9d9f"
      },
      "execution_count": 26,
      "outputs": [
        {
          "output_type": "stream",
          "name": "stdout",
          "text": [
            "R-squared (coefficient of determination): 0.9992582202103366\n"
          ]
        }
      ]
    }
  ]
}